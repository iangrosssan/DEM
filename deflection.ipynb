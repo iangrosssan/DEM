{
 "cells": [
  {
   "cell_type": "markdown",
   "id": "7365e57d",
   "metadata": {},
   "source": [
    "# Simulador de Ejes\n",
    "### Ian Gross Sánchez"
   ]
  },
  {
   "cell_type": "markdown",
   "id": "82ac0189",
   "metadata": {},
   "source": [
    "## Librerías"
   ]
  },
  {
   "cell_type": "code",
   "execution_count": 137,
   "id": "8509d906",
   "metadata": {},
   "outputs": [],
   "source": [
    "import numpy as np\n",
    "import matplotlib.pyplot as plt\n",
    "from scipy.integrate import cumulative_trapezoid as cumtrapz"
   ]
  },
  {
   "cell_type": "markdown",
   "id": "2e3e2215",
   "metadata": {},
   "source": [
    "## Moments of Inertia"
   ]
  },
  {
   "cell_type": "code",
   "execution_count": 289,
   "id": "1ac94855",
   "metadata": {},
   "outputs": [],
   "source": [
    "cross = 'solid_rectangular'\n",
    "b = float(0.1) # Rectangular base [m]\n",
    "h = float(0.2) # Rectangular height [m]\n",
    "A = b * h  # Cross-sectional area [m^2]\n",
    "C = 1.5  # Shear correction factor for rectangular section\n",
    "I = b * h**3 / 12  # Moment of inertia [m^4]\n",
    "y_max = h / 2  # Maximum distance from the neutral axis to the outer fiber [m]\n",
    "\n",
    "# cross = 'solid_circular'\n",
    "# D = float(0.5) # Circular diameter [m]\n",
    "# r = D / 2  # Circular radius [m]\n",
    "# C = 1.33  # Shear correction factor for circular section\n",
    "# I = np.pi * r**4 / 4  # Moment of inertia [m^4]\n",
    "# J = np.pi * r**4 / 2  # Polar moment of inertia [m^4]\n",
    "# A = np.pi * r**2  # Cross-sectional area [m^2]\n",
    "# y_max = r  # Maximum distance from the neutral axis to the outer fiber [m]\n",
    "\n",
    "# cross = 'hollow_circular'\n",
    "# D = float(0.5) # Circular diameter [m]\n",
    "# re = D / 2  # Circular outer radius [m]\n",
    "# d = float(0.2) # Circular inner diameter [m]\n",
    "# ri = d / 2  # Circular inner radius [m]\n",
    "# C = 2  # Shear correction factor for circular section\n",
    "# I = np.pi * (re**4 - ri**4) / 4  # Moment of inertia [m^4]\n",
    "# J = np.pi * re**4 - ri**4) / 2  # Polar moment of inertia [m^4]\n",
    "# A = np.pi * re**2  # Cross-sectional area [m^2]\n",
    "# y_max = re  # Maximum distance from the neutral axis to the outer fiber [m]"
   ]
  },
  {
   "cell_type": "markdown",
   "id": "0c16b033",
   "metadata": {},
   "source": [
    "## Material Properties"
   ]
  },
  {
   "cell_type": "code",
   "execution_count": 290,
   "id": "b594b95c",
   "metadata": {},
   "outputs": [],
   "source": [
    "# Material properties\n",
    "E = 210*10**9           # Young's modulus [Pa]\n",
    "nu = 0.3                # Poisson's ratio\n",
    "G = E / (2 * (1 + nu))  # Shear modulus [Pa]"
   ]
  },
  {
   "cell_type": "markdown",
   "id": "424855f2",
   "metadata": {},
   "source": [
    "## Geometry"
   ]
  },
  {
   "cell_type": "code",
   "execution_count": null,
   "id": "f60af090",
   "metadata": {},
   "outputs": [],
   "source": [
    "##########\n",
    "# Geometry\n",
    "##########\n",
    "# Coordinate system\n",
    "# y ^\n",
    "#   |\n",
    "# z o---> x\n",
    "\n",
    "# Beam\n",
    "L = 1.0   # Length [m]\n",
    "x = np.linspace(0, L, 1000)"
   ]
  },
  {
   "cell_type": "markdown",
   "id": "5691a432",
   "metadata": {},
   "source": [
    "## Support"
   ]
  },
  {
   "cell_type": "code",
   "execution_count": null,
   "id": "fe0e99cd",
   "metadata": {},
   "outputs": [],
   "source": [
    "# Fixed - Free Beam\n",
    "# |-----------\n",
    "# support = 'fixed-free'\n",
    "\n",
    "\n",
    "# Supported - Supported Beam\n",
    "# ------------\n",
    "# ^         oo\n",
    "support = 'supported-supported'\n",
    "\n",
    "\n",
    "# Fixed - Fixed Beam\n",
    "# |-----------|\n",
    "# support = 'fixed-fixed'\n",
    "\n",
    "\n",
    "# Fixed - Supported Beam\n",
    "# |------------\n",
    "#            oo\n",
    "# support = 'fixed-supported'\n",
    "\n",
    "\n",
    "# Overhanging Beam\n",
    "# ------------\n",
    "# ^      oo\n",
    "# support = 'overhanging'\n",
    "# supports = [0, 1]  # Support points for overhanging beam"
   ]
  },
  {
   "cell_type": "markdown",
   "id": "5b961bb8",
   "metadata": {},
   "source": [
    "## Free Body Diagram"
   ]
  },
  {
   "cell_type": "code",
   "execution_count": 305,
   "id": "95691e88",
   "metadata": {},
   "outputs": [],
   "source": [
    "########\n",
    "# Forces\n",
    "########\n",
    "# Point Loads\n",
    "xF = np.array([L/4, 0])     # x coordinate of applied force\n",
    "F = np.array([-100, 0])*1e3  # Perpendicular Forces [kN]\n",
    "\n",
    "# Distributed Loads\n",
    "xIq = np.array([0, 0])     # x coordinate of distributed load start\n",
    "xFq = np.array([0, 0])       # x coordinate of distributed load end\n",
    "q = np.array([0, 0])*1e3  # Constant Distributed Load along the Beam [kN/m]\n",
    "\n",
    "\n",
    "#########\n",
    "# Moments\n",
    "#########\n",
    "# Bending Moments\n",
    "xMBz = np.array([0, 0])  # x coordinate [m] - TopBottom Bending Moment\n",
    "MBz = np.array([0, 0])  # TopBottom Bending Moment [N*m]\n",
    "\n",
    "# Torsional Moments\n",
    "xMTx = np.array([0, 0])  # x coordinate [m] - Torsional Moment\n",
    "MTx = np.array([0, 0]) # Torsional Moment [N*m]"
   ]
  },
  {
   "cell_type": "markdown",
   "id": "cc3482ce",
   "metadata": {},
   "source": [
    "## Momento y Esfuerzos"
   ]
  },
  {
   "cell_type": "code",
   "execution_count": 313,
   "id": "1ece291e",
   "metadata": {},
   "outputs": [
    {
     "name": "stdout",
     "output_type": "stream",
     "text": [
      "Maximum bending stress: 28.12 MPa\n",
      "Maximum shear stress: 0.00 MPa\n",
      "Maximum Von Mises stress: 28.12 MPa\n"
     ]
    }
   ],
   "source": [
    "#######################\n",
    "# Stress contribution x\n",
    "#######################\n",
    "\n",
    "Mz = np.zeros_like(x, dtype=float) # Up-Down\n",
    "# My = np.zeros_like(x, dtype=float) # Left-Right\n",
    "# Mx = np.zeros_like(x, dtype=float) # Torsional\n",
    "\n",
    "\n",
    "if support == 'fixed-free':\n",
    "    for F_i, xF_i in zip(F, xF):\n",
    "        Mz += F_i * (xF_i - x) * (x <= xF_i)\n",
    "    for q_i, xIq_i, xFq_i in zip(q, xIq, xFq):\n",
    "        Mz += np.where(x > xFq_i, 0, np.where(x < xIq_i, q_i/2 * (xFq_i - xIq_i) * (xIq_i + xFq_i - 2*x), q_i/2 * (xFq_i - x)**2))\n",
    "    for MBz_i, xMBz_i in zip(MBz, xMBz):\n",
    "        Mz += MBz_i * (x <= xMBz_i)  # TopBottom Bending Moment [N*m]\n",
    "\n",
    "elif support == 'supported-supported':\n",
    "    for F_i, xF_i in zip(F, xF):\n",
    "        Mz += np.where(x < xF_i, F_i * (L - xF_i) * x / L, F_i * xF_i * (L - x) / L)\n",
    "    for q_i, xIq_i, xFq_i in zip(q, xIq, xFq):\n",
    "        pass\n",
    "\n",
    "\n",
    "# sigmaz\n",
    "sigmaz = Mz * y_max / I  # Bending stress [Pa]\n",
    "sigma_max = np.max(np.abs(sigmaz))*1e-6  # Maximum bending stress [MPa]\n",
    "print(f'Maximum bending stress: {sigma_max:.2f} MPa')\n",
    "\n",
    "\n",
    "######################\n",
    "# Shear contribution x\n",
    "######################\n",
    "\n",
    "V = np.zeros_like(x, dtype=float)\n",
    "if support == 'fixed-free':\n",
    "    for Fi, xi in zip(F, xF):\n",
    "        V += Fi * (x <= xi)  # Shear force [N]\n",
    "    for q_i, xIq_i, xFq_i in zip(q, xIq, xFq):\n",
    "        V += np.where(x > xFq_i, 0, np.where(x < xIq_i, q_i * (xFq_i - xIq_i), q_i * (xFq_i - x)))\n",
    "\n",
    "# tau\n",
    "if cross == 'solid_rectangular':\n",
    "    tauz = 3*V / (2*A)  # Shear stress [Pa]\n",
    "elif cross == 'solid_circular':\n",
    "    tauz = 4*V / (3*A)\n",
    "elif cross == 'hollow_circular':\n",
    "    tauz = 4*V / (3*A) * (re**2 + re*ri + ri**2) / (re**2 + ri**2)  # Shear stress [Pa]\n",
    "\n",
    "tauz_max = np.max(np.abs(tauz))*1e-6  # Maximum shear stress [Pa]\n",
    "print(f'Maximum shear stress: {tauz_max:.2f} MPa')\n",
    "\n",
    "\n",
    "##################\n",
    "# Von Mises stress\n",
    "##################\n",
    "\n",
    "von_mises = np.sqrt(sigmaz**2 + 3*tauz**2)  # Von Mises stress [Pa]\n",
    "von_mises_max = np.max(von_mises) * 1e-6  # Maximum Von Mises stress [MPa]\n",
    "print(f'Maximum Von Mises stress: {von_mises_max:.2f} MPa')"
   ]
  },
  {
   "cell_type": "markdown",
   "id": "de59123f",
   "metadata": {},
   "source": [
    "##  Integración para Deflexión"
   ]
  },
  {
   "cell_type": "code",
   "execution_count": 314,
   "id": "d5d6ba9b",
   "metadata": {},
   "outputs": [
    {
     "name": "stdout",
     "output_type": "stream",
     "text": [
      "Maximum deflection due to bending: 0.10 mm\n",
      "Maximum deflection due to shear: 0.00 mm\n",
      "Maximum total deflection: 0.10 mm\n",
      "Critical point: 0.44 m\n"
     ]
    }
   ],
   "source": [
    "if support == 'fixed-free':\n",
    "    # Stress sigma\n",
    "    theta = cumtrapz(Mz / (E*I), x, initial=0)\n",
    "    delta_bending = cumtrapz(theta, x, initial=0)\n",
    "    # Shear tau\n",
    "    delta_shear = cumtrapz(C*V/(G*A), x, initial=0)\n",
    "\n",
    "elif support == 'supported-supported':\n",
    "    # Stress sigma\n",
    "    theta0 = cumtrapz(Mz / (E*I), x, initial=0)\n",
    "    delta0 = cumtrapz(theta0, x, initial=0)\n",
    "    C2 = delta0[-1] / L\n",
    "    theta = -theta0 + C2\n",
    "    delta_bending = cumtrapz(theta, x, initial=0)\n",
    "    # Shear tau\n",
    "    delta_shear = cumtrapz(C*V/(G*A), x, initial=0)\n",
    "\n",
    "\n",
    "# Total Deflection\n",
    "delta_total = delta_bending + delta_shear\n",
    "\n",
    "# Max Deflection\n",
    "max_deflection_bending_mm = np.max(np.abs(delta_bending)) * 1e3\n",
    "max_deflection_shear_mm = np.max(np.abs(delta_shear)) * 1e3\n",
    "max_deflection_mm = np.max(np.abs(delta_total)) * 1e3\n",
    "x_max = x[np.argmax(np.abs(delta_total))]\n",
    "\n",
    "print(f'Maximum deflection due to bending: {max_deflection_bending_mm:.2f} mm')\n",
    "print(f'Maximum deflection due to shear: {max_deflection_shear_mm:.2f} mm')\n",
    "print(f'Maximum total deflection: {max_deflection_mm:.2f} mm')\n",
    "print(f'Critical point: {x_max:.2f} m')"
   ]
  },
  {
   "cell_type": "markdown",
   "id": "faec2e31",
   "metadata": {},
   "source": [
    "## Plot"
   ]
  },
  {
   "cell_type": "code",
   "execution_count": 315,
   "id": "99da2d19",
   "metadata": {},
   "outputs": [
    {
     "data": {
      "image/png": "[encoded data removed]",
      "text/plain": [
       "<Figure size 700x300 with 1 Axes>"
      ]
     },
     "metadata": {},
     "output_type": "display_data"
    },
    {
     "name": "stdout",
     "output_type": "stream",
     "text": [
      "Support points = supported-supported\n",
      "Cross-section: solid_rectangular, b: 0.1 m, h: 0.2 m, I: 6.67e-05 m^4, A: 2.00e-02 m^2\n",
      "Max deflection at x = 0.441 m: 0.104 mm\n"
     ]
    }
   ],
   "source": [
    "plt.figure(figsize=(7, 3))\n",
    "plt.plot(x, delta_bending * 1e3, color=\"blue\")  # Convert to mm\n",
    "plt.title(\"Deflection of a Axis\")\n",
    "plt.xlabel(\"x [m]\")\n",
    "plt.ylabel(\"Deflection y(x) [mm]\")\n",
    "plt.grid(True)\n",
    "\n",
    "plt.tight_layout()\n",
    "plt.show()\n",
    "\n",
    "print(f\"Support points = {support}\")\n",
    "if cross == 'solid_rectangular':\n",
    "    print(f\"Cross-section: {cross}, b: {b} m, h: {h} m, I: {I:.2e} m^4, A: {A:.2e} m^2\")\n",
    "elif cross == 'solid_circular':\n",
    "    print(f\"Cross-section: {cross}, D: {D} m, I: {I:.2e} m^4, J: {J:.2e} m^4, A: {A:.2e} m^2\")\n",
    "elif cross == 'hollow_circular':\n",
    "    print(f\"Cross-section: {cross}, D: {D} m, d: {d} m, I: {I:.2e} m^4, J: {J:.2e} m^4, A: {A:.2e} m^2\")\n",
    "print(f\"Max deflection at x = {x_max:.3f} m: {max_deflection_mm:.3f} mm\")\n",
    "\n"
   ]
  },
  {
   "cell_type": "markdown",
   "id": "60908cf9",
   "metadata": {},
   "source": [
    "## Anexos"
   ]
  },
  {
   "cell_type": "markdown",
   "id": "ffd38678",
   "metadata": {},
   "source": [
    "### Código Base"
   ]
  },
  {
   "cell_type": "raw",
   "id": "7f7513c7",
   "metadata": {
    "vscode": {
     "languageId": "raw"
    }
   },
   "source": [
    "import numpy as np\n",
    "import matplotlib.pyplot as plt\n",
    "from scipy.integrate import cumulative_trapezoid as cumtrap\n",
    "\n",
    "cross = 'solid_rectangular',\n",
    "b = float(0.1) # Rectangular base [m]\n",
    "h = float(0.2) # Rectangular height [m]\n",
    "C = 1.5  # Shear correction factor for rectangular section\n",
    "I = b * h**3 / 12  # Moment of inertia [m^4]\n",
    "A = b * h  # Cross-sectional area [m^2]\n",
    "\n",
    "# Material properties\n",
    "E = 210*10**9           # Young's modulus [Pa]\n",
    "nu = 0.3                # Poisson's ratio\n",
    "G = E / (2 * (1 + nu))  # Shear modulus [Pa]\n",
    "\n",
    "\n",
    "# Geometry and Mechanics\n",
    "L = 1   # Length [m]\n",
    "x = np.linspace(0, L, 1000)\n",
    "\n",
    "# Statics\n",
    "fix = [1] # x coordinate of fixing point\n",
    "\n",
    "# Dynamics\n",
    "xF = [L]  # x coordinate of applied load\n",
    "F = [-100.0*10**3]  # Applied load at free end [N]\n",
    "\n",
    "# Shear Forces\n",
    "MTx = [0.0] # x Direction Shear Force [N]\n",
    "xMTx = [0.0] # x coordinate of the x Direction Shear Force\n",
    "MTy = [0.0] # y Direction Shear Force [N]\n",
    "xMTy = [0.0] # x coordinate of the y Direction Shear Force\n",
    "\n",
    "\n",
    "# Moment function: M(x) = -F * (L - x)\n",
    "M = F[0] * (L - x)\n",
    "\n",
    "theta = cumtrapz(M / (E*I), x, initial=0)\n",
    "delta_bending = cumtrapz(theta, x, initial=0)\n",
    "\n",
    "# Shear contribution\n",
    "V = F[0]  # Constant shear for point load\n",
    "shear = C * V * x / (L * G * A)\n",
    "delta_shear = cumtrapz(shear, x, initial=0)\n",
    "\n",
    "# Total deflection\n",
    "delta_total = delta_bending + delta_shear\n",
    "\n",
    "# Max deflection at x = L\n",
    "max_deflection_mm = delta_total[-1] * 1e3\n",
    "max_deflection_bending_mm = delta_bending[-1] * 1e3\n",
    "max_deflection_shear_mm = delta_shear[-1] * 1e3"
   ]
  },
  {
   "cell_type": "raw",
   "id": "2bfee16c",
   "metadata": {},
   "source": []
  }
 ],
 "metadata": {
  "kernelspec": {
   "display_name": "myenv",
   "language": "python",
   "name": "python3"
  },
  "language_info": {
   "codemirror_mode": {
    "name": "ipython",
    "version": 3
   },
   "file_extension": ".py",
   "mimetype": "text/x-python",
   "name": "python",
   "nbconvert_exporter": "python",
   "pygments_lexer": "ipython3",
   "version": "3.12.7"
  }
 },
 "nbformat": 4,
 "nbformat_minor": 5
}
